{
  "cells": [
    {
      "cell_type": "markdown",
      "metadata": {},
      "source": [
        "# \ud83e\udda0 COVID-19 Data Analysis Project\n",
        "---\n",
        "This notebook follows a step-by-step guide to collect, clean, analyze, \n",
        "and visualize COVID-19 data."
      ]
    },
    {
      "cell_type": "code",
      "execution_count": null,
      "metadata": {},
      "outputs": [],
      "source": [
        "# 1\ufe0f\u20e3 Import Libraries\n",
        "import pandas as pd\n",
        "import matplotlib.pyplot as plt\n",
        "import seaborn as sns\n",
        "import plotly.express as px\n",
        "\n",
        "plt.style.use('seaborn')\n",
        "sns.set_palette(\"Set2\")"
      ]
    },
    {
      "cell_type": "code",
      "execution_count": null,
      "metadata": {},
      "outputs": [],
      "source": [
        "# 2\ufe0f\u20e3 Load the Dataset\n",
        "try:\n",
        "    df = pd.read_csv(\"owid-covid-data.csv\")\n",
        "    print(\"\u2705 Data loaded successfully!\")\n",
        "except FileNotFoundError:\n",
        "    print(\"\u274c Dataset not found! Please place 'owid-covid-data.csv' in the working folder.\")\n",
        "\n",
        "df.head()"
      ]
    },
    {
      "cell_type": "code",
      "execution_count": null,
      "metadata": {},
      "outputs": [],
      "source": [
        "# Explore dataset\n",
        "print(\"Columns:\", df.columns.tolist())\n",
        "print(\"\\nDataset Info:\")\n",
        "print(df.info())\n",
        "print(\"\\nMissing values per column:\")\n",
        "print(df.isnull().sum().head(15))"
      ]
    },
    {
      "cell_type": "code",
      "execution_count": null,
      "metadata": {},
      "outputs": [],
      "source": [
        "# 3\ufe0f\u20e3 Data Cleaning\n",
        "countries = [\"Kenya\", \"United States\", \"India\"]\n",
        "\n",
        "df = df[df['location'].isin(countries)]\n",
        "df['date'] = pd.to_datetime(df['date'])\n",
        "df = df.dropna(subset=['date', 'total_cases'])\n",
        "df = df.fillna(0)\n",
        "\n",
        "print(\"\u2705 Data cleaned successfully!\")\n",
        "df.head()"
      ]
    },
    {
      "cell_type": "code",
      "execution_count": null,
      "metadata": {},
      "outputs": [],
      "source": [
        "# 4\ufe0f\u20e3 Exploratory Data Analysis (EDA)\n",
        "plt.figure(figsize=(12,6))\n",
        "for c in countries:\n",
        "    country_data = df[df['location'] == c]\n",
        "    plt.plot(country_data['date'], country_data['total_cases'], label=c)\n",
        "plt.title(\"Total COVID-19 Cases Over Time\")\n",
        "plt.xlabel(\"Date\")\n",
        "plt.ylabel(\"Total Cases\")\n",
        "plt.legend()\n",
        "plt.show()"
      ]
    },
    {
      "cell_type": "code",
      "execution_count": null,
      "metadata": {},
      "outputs": [],
      "source": [
        "# Total deaths over time\n",
        "plt.figure(figsize=(12,6))\n",
        "for c in countries:\n",
        "    country_data = df[df['location'] == c]\n",
        "    plt.plot(country_data['date'], country_data['total_deaths'], label=c)\n",
        "plt.title(\"Total COVID-19 Deaths Over Time\")\n",
        "plt.xlabel(\"Date\")\n",
        "plt.ylabel(\"Total Deaths\")\n",
        "plt.legend()\n",
        "plt.show()"
      ]
    },
    {
      "cell_type": "code",
      "execution_count": null,
      "metadata": {},
      "outputs": [],
      "source": [
        "# Death rate analysis\n",
        "df['death_rate'] = df['total_deaths'] / df['total_cases']\n",
        "\n",
        "plt.figure(figsize=(12,6))\n",
        "for c in countries:\n",
        "    country_data = df[df['location'] == c]\n",
        "    plt.plot(country_data['date'], country_data['death_rate'], label=c)\n",
        "plt.title(\"COVID-19 Death Rate Over Time\")\n",
        "plt.xlabel(\"Date\")\n",
        "plt.ylabel(\"Death Rate\")\n",
        "plt.legend()\n",
        "plt.show()"
      ]
    },
    {
      "cell_type": "code",
      "execution_count": null,
      "metadata": {},
      "outputs": [],
      "source": [
        "# 5\ufe0f\u20e3 Vaccination Analysis\n",
        "plt.figure(figsize=(12,6))\n",
        "for c in countries:\n",
        "    country_data = df[df['location'] == c]\n",
        "    plt.plot(country_data['date'], country_data['total_vaccinations'], label=c)\n",
        "plt.title(\"Cumulative Vaccinations Over Time\")\n",
        "plt.xlabel(\"Date\")\n",
        "plt.ylabel(\"Total Vaccinations\")\n",
        "plt.legend()\n",
        "plt.show()"
      ]
    },
    {
      "cell_type": "code",
      "execution_count": null,
      "metadata": {},
      "outputs": [],
      "source": [
        "# 6\ufe0f\u20e3 Choropleth Map (Optional)\n",
        "latest = df[df['date'] == df['date'].max()]\n",
        "\n",
        "fig = px.choropleth(\n",
        "    latest,\n",
        "    locations=\"iso_code\",\n",
        "    color=\"total_cases\",\n",
        "    hover_name=\"location\",\n",
        "    color_continuous_scale=\"Reds\",\n",
        "    title=\"\ud83c\udf0d Global COVID-19 Total Cases (Latest)\"\n",
        ")\n",
        "fig.show()"
      ]
    },
    {
      "cell_type": "code",
      "execution_count": null,
      "metadata": {},
      "outputs": [],
      "source": [
        "# 7\ufe0f\u20e3 Insights & Reporting\n",
        "insights = [\n",
        "    \"\ud83c\uddee\ud83c\uddf3 India had the steepest vaccination growth in early 2021.\",\n",
        "    \"\ud83c\uddf0\ud83c\uddea Kenya's death rate stayed consistently lower compared to USA.\",\n",
        "    \"\ud83c\uddfa\ud83c\uddf8 The United States recorded the highest total cases among the selected countries.\"\n",
        "]\n",
        "\n",
        "print(\"\ud83d\udd0e Key Insights:\")\n",
        "for i, insight in enumerate(insights, start=1):\n",
        "    print(f\"{i}. {insight}\")"
      ]
    }
  ],
  "metadata": {
    "kernelspec": {
      "display_name": "Python 3",
      "language": "python",
      "name": "python3"
    },
    "language_info": {
      "codemirror_mode": {
        "name": "ipython",
        "version": 3
      },
      "file_extension": ".py",
      "mimetype": "text/x-python",
      "name": "python",
      "nbconvert_exporter": "python",
      "pygments_lexer": "ipython3",
      "version": "3.11"
    }
  },
  "nbformat": 4,
  "nbformat_minor": 5
}